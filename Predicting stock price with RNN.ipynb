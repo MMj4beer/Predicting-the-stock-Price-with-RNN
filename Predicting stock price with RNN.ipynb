{
 "cells": [
  {
   "cell_type": "code",
   "execution_count": 1,
   "id": "e36b4f0d",
   "metadata": {},
   "outputs": [],
   "source": [
    "import numpy as np\n",
    "import pandas as pd\n",
    "import matplotlib.pyplot as plt"
   ]
  },
  {
   "cell_type": "code",
   "execution_count": 2,
   "id": "73abc7b9",
   "metadata": {},
   "outputs": [],
   "source": [
    "df = pd.read_csv('Google_Stock_Price_Train.csv')"
   ]
  },
  {
   "cell_type": "code",
   "execution_count": 3,
   "id": "3c58a16d",
   "metadata": {},
   "outputs": [
    {
     "data": {
      "text/html": [
       "<div>\n",
       "<style scoped>\n",
       "    .dataframe tbody tr th:only-of-type {\n",
       "        vertical-align: middle;\n",
       "    }\n",
       "\n",
       "    .dataframe tbody tr th {\n",
       "        vertical-align: top;\n",
       "    }\n",
       "\n",
       "    .dataframe thead th {\n",
       "        text-align: right;\n",
       "    }\n",
       "</style>\n",
       "<table border=\"1\" class=\"dataframe\">\n",
       "  <thead>\n",
       "    <tr style=\"text-align: right;\">\n",
       "      <th></th>\n",
       "      <th>Date</th>\n",
       "      <th>Open</th>\n",
       "      <th>High</th>\n",
       "      <th>Low</th>\n",
       "      <th>Close</th>\n",
       "      <th>Volume</th>\n",
       "    </tr>\n",
       "  </thead>\n",
       "  <tbody>\n",
       "    <tr>\n",
       "      <th>0</th>\n",
       "      <td>1/3/2012</td>\n",
       "      <td>325.25</td>\n",
       "      <td>332.83</td>\n",
       "      <td>324.97</td>\n",
       "      <td>663.59</td>\n",
       "      <td>7,380,500</td>\n",
       "    </tr>\n",
       "    <tr>\n",
       "      <th>1</th>\n",
       "      <td>1/4/2012</td>\n",
       "      <td>331.27</td>\n",
       "      <td>333.87</td>\n",
       "      <td>329.08</td>\n",
       "      <td>666.45</td>\n",
       "      <td>5,749,400</td>\n",
       "    </tr>\n",
       "    <tr>\n",
       "      <th>2</th>\n",
       "      <td>1/5/2012</td>\n",
       "      <td>329.83</td>\n",
       "      <td>330.75</td>\n",
       "      <td>326.89</td>\n",
       "      <td>657.21</td>\n",
       "      <td>6,590,300</td>\n",
       "    </tr>\n",
       "    <tr>\n",
       "      <th>3</th>\n",
       "      <td>1/6/2012</td>\n",
       "      <td>328.34</td>\n",
       "      <td>328.77</td>\n",
       "      <td>323.68</td>\n",
       "      <td>648.24</td>\n",
       "      <td>5,405,900</td>\n",
       "    </tr>\n",
       "    <tr>\n",
       "      <th>4</th>\n",
       "      <td>1/9/2012</td>\n",
       "      <td>322.04</td>\n",
       "      <td>322.29</td>\n",
       "      <td>309.46</td>\n",
       "      <td>620.76</td>\n",
       "      <td>11,688,800</td>\n",
       "    </tr>\n",
       "  </tbody>\n",
       "</table>\n",
       "</div>"
      ],
      "text/plain": [
       "       Date    Open    High     Low   Close      Volume\n",
       "0  1/3/2012  325.25  332.83  324.97  663.59   7,380,500\n",
       "1  1/4/2012  331.27  333.87  329.08  666.45   5,749,400\n",
       "2  1/5/2012  329.83  330.75  326.89  657.21   6,590,300\n",
       "3  1/6/2012  328.34  328.77  323.68  648.24   5,405,900\n",
       "4  1/9/2012  322.04  322.29  309.46  620.76  11,688,800"
      ]
     },
     "execution_count": 3,
     "metadata": {},
     "output_type": "execute_result"
    }
   ],
   "source": [
    "df.head()"
   ]
  },
  {
   "cell_type": "code",
   "execution_count": 4,
   "id": "94496986",
   "metadata": {},
   "outputs": [],
   "source": [
    "training_set = df['Open'].values"
   ]
  },
  {
   "cell_type": "code",
   "execution_count": 5,
   "id": "e7b0b1f6",
   "metadata": {},
   "outputs": [],
   "source": [
    "training_set = np.reshape(training_set, (-1,1))"
   ]
  },
  {
   "cell_type": "code",
   "execution_count": 6,
   "id": "001a4e65",
   "metadata": {},
   "outputs": [
    {
     "data": {
      "text/plain": [
       "array([[325.25],\n",
       "       [331.27],\n",
       "       [329.83],\n",
       "       ...,\n",
       "       [793.7 ],\n",
       "       [783.33],\n",
       "       [782.75]])"
      ]
     },
     "execution_count": 6,
     "metadata": {},
     "output_type": "execute_result"
    }
   ],
   "source": [
    "training_set"
   ]
  },
  {
   "cell_type": "code",
   "execution_count": 7,
   "id": "84f55ec1",
   "metadata": {},
   "outputs": [],
   "source": [
    "from sklearn.preprocessing import MinMaxScaler\n",
    "sc = MinMaxScaler()\n",
    "training_set_scale = sc.fit_transform(training_set)"
   ]
  },
  {
   "cell_type": "code",
   "execution_count": 8,
   "id": "05a9f4e6",
   "metadata": {},
   "outputs": [
    {
     "data": {
      "text/plain": [
       "array([[0.08581368],\n",
       "       [0.09701243],\n",
       "       [0.09433366],\n",
       "       ...,\n",
       "       [0.95725128],\n",
       "       [0.93796041],\n",
       "       [0.93688146]])"
      ]
     },
     "execution_count": 8,
     "metadata": {},
     "output_type": "execute_result"
    }
   ],
   "source": [
    "training_set_scale"
   ]
  },
  {
   "cell_type": "code",
   "execution_count": 9,
   "id": "7667b2e1",
   "metadata": {},
   "outputs": [],
   "source": [
    "X_train=[]\n",
    "y_train=[]"
   ]
  },
  {
   "cell_type": "code",
   "execution_count": 10,
   "id": "fc8710ca",
   "metadata": {},
   "outputs": [
    {
     "data": {
      "text/plain": [
       "1258"
      ]
     },
     "execution_count": 10,
     "metadata": {},
     "output_type": "execute_result"
    }
   ],
   "source": [
    "len(training_set)"
   ]
  },
  {
   "cell_type": "code",
   "execution_count": 11,
   "id": "f1fffc93",
   "metadata": {},
   "outputs": [],
   "source": [
    "for i in range(61, 1258):\n",
    "    X_train.append(training_set_scale[i-61:i, 0])\n",
    "    y_train.append(training_set_scale[i, 0])\n",
    "X_train, y_train = np.array(X_train), np.array(y_train)"
   ]
  },
  {
   "cell_type": "code",
   "execution_count": 12,
   "id": "4b3ff5c5",
   "metadata": {},
   "outputs": [
    {
     "data": {
      "text/plain": [
       "array([[0.08581368, 0.09701243, 0.09433366, ..., 0.08034452, 0.08497656,\n",
       "        0.08627874],\n",
       "       [0.09701243, 0.09433366, 0.09156187, ..., 0.08497656, 0.08627874,\n",
       "        0.08471612],\n",
       "       [0.09433366, 0.09156187, 0.07984225, ..., 0.08627874, 0.08471612,\n",
       "        0.07454052],\n",
       "       ...,\n",
       "       [0.92493861, 0.92106928, 0.92438053, ..., 0.95475854, 0.95204256,\n",
       "        0.95163331],\n",
       "       [0.92106928, 0.92438053, 0.93048218, ..., 0.95204256, 0.95163331,\n",
       "        0.95725128],\n",
       "       [0.92438053, 0.93048218, 0.9299055 , ..., 0.95163331, 0.95725128,\n",
       "        0.93796041]])"
      ]
     },
     "execution_count": 12,
     "metadata": {},
     "output_type": "execute_result"
    }
   ],
   "source": [
    "X_train"
   ]
  },
  {
   "cell_type": "code",
   "execution_count": 13,
   "id": "4490a4c3",
   "metadata": {},
   "outputs": [
    {
     "data": {
      "text/plain": [
       "array([0.08471612, 0.07454052, 0.07883771, ..., 0.95725128, 0.93796041,\n",
       "       0.93688146])"
      ]
     },
     "execution_count": 13,
     "metadata": {},
     "output_type": "execute_result"
    }
   ],
   "source": [
    "y_train\n"
   ]
  },
  {
   "cell_type": "code",
   "execution_count": 14,
   "id": "80c5a320",
   "metadata": {},
   "outputs": [],
   "source": [
    "X_train = np.reshape(X_train, (len(X_train), len(X_train[0]), 1 ))"
   ]
  },
  {
   "cell_type": "code",
   "execution_count": 15,
   "id": "d081ff85",
   "metadata": {},
   "outputs": [
    {
     "data": {
      "text/plain": [
       "1197"
      ]
     },
     "execution_count": 15,
     "metadata": {},
     "output_type": "execute_result"
    }
   ],
   "source": [
    "X_train.shape[0]"
   ]
  },
  {
   "cell_type": "code",
   "execution_count": 16,
   "id": "623860c9",
   "metadata": {},
   "outputs": [
    {
     "data": {
      "text/plain": [
       "3"
      ]
     },
     "execution_count": 16,
     "metadata": {},
     "output_type": "execute_result"
    }
   ],
   "source": [
    "X_train.ndim"
   ]
  },
  {
   "cell_type": "code",
   "execution_count": 17,
   "id": "0c659d61",
   "metadata": {},
   "outputs": [
    {
     "data": {
      "text/plain": [
       "(1197, 61, 1)"
      ]
     },
     "execution_count": 17,
     "metadata": {},
     "output_type": "execute_result"
    }
   ],
   "source": [
    "X_train.shape"
   ]
  },
  {
   "cell_type": "code",
   "execution_count": 18,
   "id": "87f4185c",
   "metadata": {},
   "outputs": [],
   "source": [
    "from keras.models import Sequential\n",
    "from keras.layers import Dense, LSTM, Dropout"
   ]
  },
  {
   "cell_type": "code",
   "execution_count": 19,
   "id": "4d3f76c0",
   "metadata": {},
   "outputs": [],
   "source": [
    "RNN = Sequential()"
   ]
  },
  {
   "cell_type": "code",
   "execution_count": 20,
   "id": "c1ddc0c7",
   "metadata": {},
   "outputs": [],
   "source": [
    "RNN.add(LSTM(units = 61, return_sequences = True, input_shape = (X_train.shape[1], 1) ))"
   ]
  },
  {
   "cell_type": "code",
   "execution_count": 21,
   "id": "9dbec309",
   "metadata": {},
   "outputs": [],
   "source": [
    "RNN.add(Dropout(0.2))"
   ]
  },
  {
   "cell_type": "code",
   "execution_count": 22,
   "id": "93f6a504",
   "metadata": {},
   "outputs": [],
   "source": [
    "RNN.add(LSTM(units = 61, return_sequences = True))"
   ]
  },
  {
   "cell_type": "code",
   "execution_count": 23,
   "id": "0eadbc08",
   "metadata": {},
   "outputs": [],
   "source": [
    "RNN.add(Dropout(0.2))"
   ]
  },
  {
   "cell_type": "code",
   "execution_count": 24,
   "id": "5839ce6c",
   "metadata": {},
   "outputs": [],
   "source": [
    "RNN.add(LSTM(units = 61, return_sequences = True))"
   ]
  },
  {
   "cell_type": "code",
   "execution_count": 25,
   "id": "b560b411",
   "metadata": {},
   "outputs": [],
   "source": [
    "RNN.add(Dropout(0.2))"
   ]
  },
  {
   "cell_type": "code",
   "execution_count": 26,
   "id": "afcb5ee4",
   "metadata": {},
   "outputs": [],
   "source": [
    "RNN.add(LSTM(units = 61, return_sequences = True))\n",
    "RNN.add(Dropout(0.2))"
   ]
  },
  {
   "cell_type": "code",
   "execution_count": 27,
   "id": "af8e4b1f",
   "metadata": {},
   "outputs": [],
   "source": [
    "RNN.add(LSTM(units = 61))\n",
    "RNN.add(Dropout(0.2))"
   ]
  },
  {
   "cell_type": "code",
   "execution_count": 28,
   "id": "2db95e2d",
   "metadata": {},
   "outputs": [],
   "source": [
    "RNN.add(Dense(units = 1))"
   ]
  },
  {
   "cell_type": "code",
   "execution_count": 30,
   "id": "bd7a771f",
   "metadata": {},
   "outputs": [],
   "source": [
    "RNN.compile(optimizer = 'Adam', loss = 'mean_squared_error')"
   ]
  },
  {
   "cell_type": "code",
   "execution_count": 34,
   "id": "c942f5aa",
   "metadata": {},
   "outputs": [
    {
     "name": "stdout",
     "output_type": "stream",
     "text": [
      "Epoch 1/161\n",
      "38/38 [==============================] - 8s 81ms/step - loss: 0.1108\n",
      "Epoch 2/161\n",
      "38/38 [==============================] - 3s 81ms/step - loss: 0.0065\n",
      "Epoch 3/161\n",
      "38/38 [==============================] - 3s 78ms/step - loss: 0.0049\n",
      "Epoch 4/161\n",
      "38/38 [==============================] - 3s 73ms/step - loss: 0.0054\n",
      "Epoch 5/161\n",
      "38/38 [==============================] - 3s 77ms/step - loss: 0.0050\n",
      "Epoch 6/161\n",
      "38/38 [==============================] - 5s 119ms/step - loss: 0.0049\n",
      "Epoch 7/161\n",
      "38/38 [==============================] - 5s 120ms/step - loss: 0.0045\n",
      "Epoch 8/161\n",
      "38/38 [==============================] - 5s 124ms/step - loss: 0.0055\n",
      "Epoch 9/161\n",
      "38/38 [==============================] - 5s 121ms/step - loss: 0.0042\n",
      "Epoch 10/161\n",
      "38/38 [==============================] - 4s 95ms/step - loss: 0.0046\n",
      "Epoch 11/161\n",
      "38/38 [==============================] - 4s 104ms/step - loss: 0.0037\n",
      "Epoch 12/161\n",
      "38/38 [==============================] - 4s 97ms/step - loss: 0.0039\n",
      "Epoch 13/161\n",
      "38/38 [==============================] - 4s 95ms/step - loss: 0.0040\n",
      "Epoch 14/161\n",
      "38/38 [==============================] - 4s 94ms/step - loss: 0.0049\n",
      "Epoch 15/161\n",
      "38/38 [==============================] - 4s 94ms/step - loss: 0.0040\n",
      "Epoch 16/161\n",
      "38/38 [==============================] - 4s 93ms/step - loss: 0.0031\n",
      "Epoch 17/161\n",
      "38/38 [==============================] - 4s 93ms/step - loss: 0.0036\n",
      "Epoch 18/161\n",
      "38/38 [==============================] - 4s 92ms/step - loss: 0.0035\n",
      "Epoch 19/161\n",
      "38/38 [==============================] - 4s 103ms/step - loss: 0.0032\n",
      "Epoch 20/161\n",
      "38/38 [==============================] - 4s 101ms/step - loss: 0.0033\n",
      "Epoch 21/161\n",
      "38/38 [==============================] - 4s 96ms/step - loss: 0.0041\n",
      "Epoch 22/161\n",
      "38/38 [==============================] - 4s 95ms/step - loss: 0.0033\n",
      "Epoch 23/161\n",
      "38/38 [==============================] - 4s 93ms/step - loss: 0.0032\n",
      "Epoch 24/161\n",
      "38/38 [==============================] - 4s 95ms/step - loss: 0.0033\n",
      "Epoch 25/161\n",
      "38/38 [==============================] - 4s 96ms/step - loss: 0.0028\n",
      "Epoch 26/161\n",
      "38/38 [==============================] - 5s 137ms/step - loss: 0.0039\n",
      "Epoch 27/161\n",
      "38/38 [==============================] - 5s 131ms/step - loss: 0.0034\n",
      "Epoch 28/161\n",
      "38/38 [==============================] - 4s 99ms/step - loss: 0.0029\n",
      "Epoch 29/161\n",
      "38/38 [==============================] - 4s 97ms/step - loss: 0.0036\n",
      "Epoch 30/161\n",
      "38/38 [==============================] - 4s 95ms/step - loss: 0.0031\n",
      "Epoch 31/161\n",
      "38/38 [==============================] - 4s 95ms/step - loss: 0.0031\n",
      "Epoch 32/161\n",
      "38/38 [==============================] - 4s 96ms/step - loss: 0.0030\n",
      "Epoch 33/161\n",
      "38/38 [==============================] - 4s 95ms/step - loss: 0.0030\n",
      "Epoch 34/161\n",
      "38/38 [==============================] - 4s 94ms/step - loss: 0.0031\n",
      "Epoch 35/161\n",
      "38/38 [==============================] - 4s 94ms/step - loss: 0.0030\n",
      "Epoch 36/161\n",
      "38/38 [==============================] - 4s 95ms/step - loss: 0.0025\n",
      "Epoch 37/161\n",
      "38/38 [==============================] - 4s 97ms/step - loss: 0.0029\n",
      "Epoch 38/161\n",
      "38/38 [==============================] - 4s 94ms/step - loss: 0.0027\n",
      "Epoch 39/161\n",
      "38/38 [==============================] - 4s 93ms/step - loss: 0.0027\n",
      "Epoch 40/161\n",
      "38/38 [==============================] - 4s 98ms/step - loss: 0.0027\n",
      "Epoch 41/161\n",
      "38/38 [==============================] - 4s 99ms/step - loss: 0.0024\n",
      "Epoch 42/161\n",
      "38/38 [==============================] - 4s 94ms/step - loss: 0.0031\n",
      "Epoch 43/161\n",
      "38/38 [==============================] - 4s 94ms/step - loss: 0.0026\n",
      "Epoch 44/161\n",
      "38/38 [==============================] - 4s 94ms/step - loss: 0.0027\n",
      "Epoch 45/161\n",
      "38/38 [==============================] - 4s 95ms/step - loss: 0.0027\n",
      "Epoch 46/161\n",
      "38/38 [==============================] - 4s 95ms/step - loss: 0.0026\n",
      "Epoch 47/161\n",
      "38/38 [==============================] - 4s 104ms/step - loss: 0.0022\n",
      "Epoch 48/161\n",
      "38/38 [==============================] - 4s 94ms/step - loss: 0.0023\n",
      "Epoch 49/161\n",
      "38/38 [==============================] - 4s 98ms/step - loss: 0.0026\n",
      "Epoch 50/161\n",
      "38/38 [==============================] - 4s 103ms/step - loss: 0.0023\n",
      "Epoch 51/161\n",
      "38/38 [==============================] - 4s 103ms/step - loss: 0.0023\n",
      "Epoch 52/161\n",
      "38/38 [==============================] - 4s 98ms/step - loss: 0.0020\n",
      "Epoch 53/161\n",
      "38/38 [==============================] - 4s 100ms/step - loss: 0.0023\n",
      "Epoch 54/161\n",
      "38/38 [==============================] - 4s 104ms/step - loss: 0.0026\n",
      "Epoch 55/161\n",
      "38/38 [==============================] - 4s 95ms/step - loss: 0.0022\n",
      "Epoch 56/161\n",
      "38/38 [==============================] - 3s 91ms/step - loss: 0.0028\n",
      "Epoch 57/161\n",
      "38/38 [==============================] - 3s 91ms/step - loss: 0.0023\n",
      "Epoch 58/161\n",
      "38/38 [==============================] - 3s 92ms/step - loss: 0.0019\n",
      "Epoch 59/161\n",
      "38/38 [==============================] - 4s 93ms/step - loss: 0.0024\n",
      "Epoch 60/161\n",
      "38/38 [==============================] - 4s 101ms/step - loss: 0.0025\n",
      "Epoch 61/161\n",
      "38/38 [==============================] - 4s 102ms/step - loss: 0.0022\n",
      "Epoch 62/161\n",
      "38/38 [==============================] - 4s 96ms/step - loss: 0.0019\n",
      "Epoch 63/161\n",
      "38/38 [==============================] - 3s 92ms/step - loss: 0.0025\n",
      "Epoch 64/161\n",
      "38/38 [==============================] - 4s 94ms/step - loss: 0.0019\n",
      "Epoch 65/161\n",
      "38/38 [==============================] - 4s 100ms/step - loss: 0.0022\n",
      "Epoch 66/161\n",
      "38/38 [==============================] - 4s 101ms/step - loss: 0.0020\n",
      "Epoch 67/161\n",
      "38/38 [==============================] - 4s 107ms/step - loss: 0.0019\n",
      "Epoch 68/161\n",
      "38/38 [==============================] - 4s 98ms/step - loss: 0.0017\n",
      "Epoch 69/161\n",
      "38/38 [==============================] - 4s 99ms/step - loss: 0.0019\n",
      "Epoch 70/161\n",
      "38/38 [==============================] - 4s 96ms/step - loss: 0.0019\n",
      "Epoch 71/161\n",
      "38/38 [==============================] - 4s 93ms/step - loss: 0.0018\n",
      "Epoch 72/161\n",
      "38/38 [==============================] - 4s 92ms/step - loss: 0.0017\n",
      "Epoch 73/161\n",
      "38/38 [==============================] - 4s 92ms/step - loss: 0.0017\n",
      "Epoch 74/161\n",
      "38/38 [==============================] - 4s 95ms/step - loss: 0.0018\n",
      "Epoch 75/161\n",
      "38/38 [==============================] - 4s 101ms/step - loss: 0.0019\n",
      "Epoch 76/161\n",
      "38/38 [==============================] - 4s 102ms/step - loss: 0.0024\n",
      "Epoch 77/161\n",
      "38/38 [==============================] - 4s 100ms/step - loss: 0.0017\n",
      "Epoch 78/161\n",
      "38/38 [==============================] - 4s 97ms/step - loss: 0.0021\n",
      "Epoch 79/161\n",
      "38/38 [==============================] - 4s 99ms/step - loss: 0.0018\n",
      "Epoch 80/161\n",
      "38/38 [==============================] - 4s 98ms/step - loss: 0.0018\n",
      "Epoch 81/161\n",
      "38/38 [==============================] - 4s 100ms/step - loss: 0.0016\n",
      "Epoch 82/161\n",
      "38/38 [==============================] - 4s 97ms/step - loss: 0.0016\n",
      "Epoch 83/161\n",
      "38/38 [==============================] - 4s 93ms/step - loss: 0.0016\n",
      "Epoch 84/161\n",
      "38/38 [==============================] - 4s 94ms/step - loss: 0.0016\n",
      "Epoch 85/161\n",
      "38/38 [==============================] - 4s 93ms/step - loss: 0.0018\n",
      "Epoch 86/161\n",
      "38/38 [==============================] - 4s 95ms/step - loss: 0.0017\n",
      "Epoch 87/161\n",
      "38/38 [==============================] - 3s 92ms/step - loss: 0.0017\n",
      "Epoch 88/161\n",
      "38/38 [==============================] - 3s 92ms/step - loss: 0.0016\n",
      "Epoch 89/161\n",
      "38/38 [==============================] - 3s 91ms/step - loss: 0.0017\n",
      "Epoch 90/161\n",
      "38/38 [==============================] - 4s 92ms/step - loss: 0.0015\n",
      "Epoch 91/161\n",
      "38/38 [==============================] - 4s 98ms/step - loss: 0.0016\n",
      "Epoch 92/161\n",
      "38/38 [==============================] - 4s 98ms/step - loss: 0.0017\n",
      "Epoch 93/161\n",
      "38/38 [==============================] - 4s 92ms/step - loss: 0.0015\n",
      "Epoch 94/161\n",
      "38/38 [==============================] - 4s 94ms/step - loss: 0.0015\n",
      "Epoch 95/161\n",
      "38/38 [==============================] - 4s 93ms/step - loss: 0.0017\n",
      "Epoch 96/161\n",
      "38/38 [==============================] - 4s 94ms/step - loss: 0.0014\n",
      "Epoch 97/161\n",
      "38/38 [==============================] - 4s 97ms/step - loss: 0.0015\n",
      "Epoch 98/161\n",
      "38/38 [==============================] - 4s 97ms/step - loss: 0.0016\n",
      "Epoch 99/161\n",
      "38/38 [==============================] - 4s 95ms/step - loss: 0.0016\n",
      "Epoch 100/161\n"
     ]
    },
    {
     "name": "stdout",
     "output_type": "stream",
     "text": [
      "38/38 [==============================] - 4s 93ms/step - loss: 0.0021\n",
      "Epoch 101/161\n",
      "38/38 [==============================] - 4s 93ms/step - loss: 0.0016\n",
      "Epoch 102/161\n",
      "38/38 [==============================] - 4s 92ms/step - loss: 0.0018\n",
      "Epoch 103/161\n",
      "38/38 [==============================] - 4s 93ms/step - loss: 0.0014\n",
      "Epoch 104/161\n",
      "38/38 [==============================] - 3s 92ms/step - loss: 0.0018\n",
      "Epoch 105/161\n",
      "38/38 [==============================] - 4s 92ms/step - loss: 0.0013\n",
      "Epoch 106/161\n",
      "38/38 [==============================] - 4s 99ms/step - loss: 0.0014\n",
      "Epoch 107/161\n",
      "38/38 [==============================] - 4s 104ms/step - loss: 0.0015\n",
      "Epoch 108/161\n",
      "38/38 [==============================] - 4s 94ms/step - loss: 0.0013\n",
      "Epoch 109/161\n",
      "38/38 [==============================] - 4s 93ms/step - loss: 0.0015\n",
      "Epoch 110/161\n",
      "38/38 [==============================] - 3s 91ms/step - loss: 0.0014\n",
      "Epoch 111/161\n",
      "38/38 [==============================] - 3s 92ms/step - loss: 0.0014\n",
      "Epoch 112/161\n",
      "38/38 [==============================] - 4s 93ms/step - loss: 0.0015\n",
      "Epoch 113/161\n",
      "38/38 [==============================] - 4s 92ms/step - loss: 0.0015\n",
      "Epoch 114/161\n",
      "38/38 [==============================] - 4s 93ms/step - loss: 0.0014\n",
      "Epoch 115/161\n",
      "38/38 [==============================] - 4s 94ms/step - loss: 0.0014\n",
      "Epoch 116/161\n",
      "38/38 [==============================] - 4s 93ms/step - loss: 0.0015\n",
      "Epoch 117/161\n",
      "38/38 [==============================] - 4s 93ms/step - loss: 0.0017\n",
      "Epoch 118/161\n",
      "38/38 [==============================] - 4s 105ms/step - loss: 0.0013\n",
      "Epoch 119/161\n",
      "38/38 [==============================] - 4s 100ms/step - loss: 0.0012\n",
      "Epoch 120/161\n",
      "38/38 [==============================] - 4s 95ms/step - loss: 0.0013\n",
      "Epoch 121/161\n",
      "38/38 [==============================] - 4s 94ms/step - loss: 0.0013\n",
      "Epoch 122/161\n",
      "38/38 [==============================] - 4s 97ms/step - loss: 0.0013\n",
      "Epoch 123/161\n",
      "38/38 [==============================] - 4s 95ms/step - loss: 0.0014\n",
      "Epoch 124/161\n",
      "38/38 [==============================] - 3s 91ms/step - loss: 0.0013\n",
      "Epoch 125/161\n",
      "38/38 [==============================] - 3s 90ms/step - loss: 0.0022\n",
      "Epoch 126/161\n",
      "38/38 [==============================] - 3s 91ms/step - loss: 0.0015\n",
      "Epoch 127/161\n",
      "38/38 [==============================] - 3s 90ms/step - loss: 0.0012\n",
      "Epoch 128/161\n",
      "38/38 [==============================] - 4s 95ms/step - loss: 0.0014\n",
      "Epoch 129/161\n",
      "38/38 [==============================] - 3s 92ms/step - loss: 9.5321e-04\n",
      "Epoch 130/161\n",
      "38/38 [==============================] - 4s 99ms/step - loss: 0.0012\n",
      "Epoch 131/161\n",
      "38/38 [==============================] - 4s 92ms/step - loss: 0.0012\n",
      "Epoch 132/161\n",
      "38/38 [==============================] - 4s 93ms/step - loss: 0.0012\n",
      "Epoch 133/161\n",
      "38/38 [==============================] - 4s 93ms/step - loss: 0.0013\n",
      "Epoch 134/161\n",
      "38/38 [==============================] - 3s 92ms/step - loss: 0.0011\n",
      "Epoch 135/161\n",
      "38/38 [==============================] - 4s 96ms/step - loss: 0.0018\n",
      "Epoch 136/161\n",
      "38/38 [==============================] - 4s 98ms/step - loss: 0.0013\n",
      "Epoch 137/161\n",
      "38/38 [==============================] - 4s 98ms/step - loss: 0.0010\n",
      "Epoch 138/161\n",
      "38/38 [==============================] - 4s 96ms/step - loss: 0.0011\n",
      "Epoch 139/161\n",
      "38/38 [==============================] - 4s 99ms/step - loss: 0.0013\n",
      "Epoch 140/161\n",
      "38/38 [==============================] - 4s 95ms/step - loss: 8.9613e-04\n",
      "Epoch 141/161\n",
      "38/38 [==============================] - 4s 95ms/step - loss: 0.0012\n",
      "Epoch 142/161\n",
      "38/38 [==============================] - 4s 94ms/step - loss: 0.0013\n",
      "Epoch 143/161\n",
      "38/38 [==============================] - 4s 101ms/step - loss: 0.0010\n",
      "Epoch 144/161\n",
      "38/38 [==============================] - 4s 97ms/step - loss: 0.0011\n",
      "Epoch 145/161\n",
      "38/38 [==============================] - 4s 93ms/step - loss: 0.0013\n",
      "Epoch 146/161\n",
      "38/38 [==============================] - 4s 95ms/step - loss: 0.0011\n",
      "Epoch 147/161\n",
      "38/38 [==============================] - 4s 95ms/step - loss: 0.0010\n",
      "Epoch 148/161\n",
      "38/38 [==============================] - 4s 96ms/step - loss: 0.0015\n",
      "Epoch 149/161\n",
      "38/38 [==============================] - 4s 96ms/step - loss: 0.0012\n",
      "Epoch 150/161\n",
      "38/38 [==============================] - 4s 95ms/step - loss: 0.0011\n",
      "Epoch 151/161\n",
      "38/38 [==============================] - 4s 95ms/step - loss: 0.0011\n",
      "Epoch 152/161\n",
      "38/38 [==============================] - 4s 97ms/step - loss: 0.0011\n",
      "Epoch 153/161\n",
      "38/38 [==============================] - 4s 101ms/step - loss: 0.0010\n",
      "Epoch 154/161\n",
      "38/38 [==============================] - 4s 104ms/step - loss: 0.0010\n",
      "Epoch 155/161\n",
      "38/38 [==============================] - 4s 96ms/step - loss: 0.0012\n",
      "Epoch 156/161\n",
      "38/38 [==============================] - 4s 92ms/step - loss: 0.0011\n",
      "Epoch 157/161\n",
      "38/38 [==============================] - 4s 101ms/step - loss: 0.0013\n",
      "Epoch 158/161\n",
      "38/38 [==============================] - 4s 93ms/step - loss: 0.0012\n",
      "Epoch 159/161\n",
      "38/38 [==============================] - 3s 92ms/step - loss: 0.0012\n",
      "Epoch 160/161\n",
      "38/38 [==============================] - 4s 93ms/step - loss: 0.0012\n",
      "Epoch 161/161\n",
      "38/38 [==============================] - 4s 95ms/step - loss: 0.0012\n"
     ]
    },
    {
     "data": {
      "text/plain": [
       "<tensorflow.python.keras.callbacks.History at 0x7f4acc6d1310>"
      ]
     },
     "execution_count": 34,
     "metadata": {},
     "output_type": "execute_result"
    }
   ],
   "source": [
    "RNN.fit(X_train, y_train, epochs = 161, batch_size = 32)"
   ]
  },
  {
   "cell_type": "code",
   "execution_count": 32,
   "id": "91b8a418",
   "metadata": {},
   "outputs": [
    {
     "data": {
      "text/plain": [
       "array([0.08471612, 0.07454052, 0.07883771, ..., 0.95725128, 0.93796041,\n",
       "       0.93688146])"
      ]
     },
     "execution_count": 32,
     "metadata": {},
     "output_type": "execute_result"
    }
   ],
   "source": [
    "y_train"
   ]
  },
  {
   "cell_type": "code",
   "execution_count": 35,
   "id": "39819476",
   "metadata": {},
   "outputs": [],
   "source": [
    "df1 = pd.read_csv('Google_Stock_Price_Test.csv')"
   ]
  },
  {
   "cell_type": "code",
   "execution_count": 36,
   "id": "a177f1a8",
   "metadata": {},
   "outputs": [
    {
     "data": {
      "text/html": [
       "<div>\n",
       "<style scoped>\n",
       "    .dataframe tbody tr th:only-of-type {\n",
       "        vertical-align: middle;\n",
       "    }\n",
       "\n",
       "    .dataframe tbody tr th {\n",
       "        vertical-align: top;\n",
       "    }\n",
       "\n",
       "    .dataframe thead th {\n",
       "        text-align: right;\n",
       "    }\n",
       "</style>\n",
       "<table border=\"1\" class=\"dataframe\">\n",
       "  <thead>\n",
       "    <tr style=\"text-align: right;\">\n",
       "      <th></th>\n",
       "      <th>Date</th>\n",
       "      <th>Open</th>\n",
       "      <th>High</th>\n",
       "      <th>Low</th>\n",
       "      <th>Close</th>\n",
       "      <th>Volume</th>\n",
       "    </tr>\n",
       "  </thead>\n",
       "  <tbody>\n",
       "    <tr>\n",
       "      <th>0</th>\n",
       "      <td>1/3/2017</td>\n",
       "      <td>778.81</td>\n",
       "      <td>789.63</td>\n",
       "      <td>775.80</td>\n",
       "      <td>786.14</td>\n",
       "      <td>1,657,300</td>\n",
       "    </tr>\n",
       "    <tr>\n",
       "      <th>1</th>\n",
       "      <td>1/4/2017</td>\n",
       "      <td>788.36</td>\n",
       "      <td>791.34</td>\n",
       "      <td>783.16</td>\n",
       "      <td>786.90</td>\n",
       "      <td>1,073,000</td>\n",
       "    </tr>\n",
       "    <tr>\n",
       "      <th>2</th>\n",
       "      <td>1/5/2017</td>\n",
       "      <td>786.08</td>\n",
       "      <td>794.48</td>\n",
       "      <td>785.02</td>\n",
       "      <td>794.02</td>\n",
       "      <td>1,335,200</td>\n",
       "    </tr>\n",
       "    <tr>\n",
       "      <th>3</th>\n",
       "      <td>1/6/2017</td>\n",
       "      <td>795.26</td>\n",
       "      <td>807.90</td>\n",
       "      <td>792.20</td>\n",
       "      <td>806.15</td>\n",
       "      <td>1,640,200</td>\n",
       "    </tr>\n",
       "    <tr>\n",
       "      <th>4</th>\n",
       "      <td>1/9/2017</td>\n",
       "      <td>806.40</td>\n",
       "      <td>809.97</td>\n",
       "      <td>802.83</td>\n",
       "      <td>806.65</td>\n",
       "      <td>1,272,400</td>\n",
       "    </tr>\n",
       "  </tbody>\n",
       "</table>\n",
       "</div>"
      ],
      "text/plain": [
       "       Date    Open    High     Low   Close     Volume\n",
       "0  1/3/2017  778.81  789.63  775.80  786.14  1,657,300\n",
       "1  1/4/2017  788.36  791.34  783.16  786.90  1,073,000\n",
       "2  1/5/2017  786.08  794.48  785.02  794.02  1,335,200\n",
       "3  1/6/2017  795.26  807.90  792.20  806.15  1,640,200\n",
       "4  1/9/2017  806.40  809.97  802.83  806.65  1,272,400"
      ]
     },
     "execution_count": 36,
     "metadata": {},
     "output_type": "execute_result"
    }
   ],
   "source": [
    "df1.head()"
   ]
  },
  {
   "cell_type": "code",
   "execution_count": 39,
   "id": "600b2b69",
   "metadata": {},
   "outputs": [],
   "source": [
    "training_test = df1['Open'].values"
   ]
  },
  {
   "cell_type": "code",
   "execution_count": 70,
   "id": "e4ec6b1d",
   "metadata": {},
   "outputs": [
    {
     "data": {
      "text/plain": [
       "array([[778.81],\n",
       "       [788.36],\n",
       "       [786.08],\n",
       "       [795.26],\n",
       "       [806.4 ],\n",
       "       [807.86],\n",
       "       [805.  ],\n",
       "       [807.14],\n",
       "       [807.48],\n",
       "       [807.08],\n",
       "       [805.81],\n",
       "       [805.12],\n",
       "       [806.91],\n",
       "       [807.25],\n",
       "       [822.3 ],\n",
       "       [829.62],\n",
       "       [837.81],\n",
       "       [834.71],\n",
       "       [814.66],\n",
       "       [796.86]])"
      ]
     },
     "execution_count": 70,
     "metadata": {},
     "output_type": "execute_result"
    }
   ],
   "source": [
    "training_test"
   ]
  },
  {
   "cell_type": "code",
   "execution_count": 71,
   "id": "a06e79dc",
   "metadata": {},
   "outputs": [],
   "source": [
    "training_test = np.reshape(training_test, (-1,1))"
   ]
  },
  {
   "cell_type": "code",
   "execution_count": 72,
   "id": "20483266",
   "metadata": {},
   "outputs": [
    {
     "data": {
      "text/plain": [
       "array([[778.81],\n",
       "       [788.36],\n",
       "       [786.08],\n",
       "       [795.26],\n",
       "       [806.4 ],\n",
       "       [807.86],\n",
       "       [805.  ],\n",
       "       [807.14],\n",
       "       [807.48],\n",
       "       [807.08],\n",
       "       [805.81],\n",
       "       [805.12],\n",
       "       [806.91],\n",
       "       [807.25],\n",
       "       [822.3 ],\n",
       "       [829.62],\n",
       "       [837.81],\n",
       "       [834.71],\n",
       "       [814.66],\n",
       "       [796.86]])"
      ]
     },
     "execution_count": 72,
     "metadata": {},
     "output_type": "execute_result"
    }
   ],
   "source": [
    "training_test"
   ]
  },
  {
   "cell_type": "code",
   "execution_count": 73,
   "id": "d0e2cde6",
   "metadata": {},
   "outputs": [],
   "source": [
    "dataset_total = pd.concat((df['Open'], df1['Open']), axis = 0)"
   ]
  },
  {
   "cell_type": "code",
   "execution_count": 74,
   "id": "f3310127",
   "metadata": {},
   "outputs": [
    {
     "data": {
      "text/plain": [
       "0     325.25\n",
       "1     331.27\n",
       "2     329.83\n",
       "3     328.34\n",
       "4     322.04\n",
       "       ...  \n",
       "15    829.62\n",
       "16    837.81\n",
       "17    834.71\n",
       "18    814.66\n",
       "19    796.86\n",
       "Name: Open, Length: 1278, dtype: float64"
      ]
     },
     "execution_count": 74,
     "metadata": {},
     "output_type": "execute_result"
    }
   ],
   "source": [
    "dataset_total"
   ]
  },
  {
   "cell_type": "code",
   "execution_count": 75,
   "id": "258c5029",
   "metadata": {},
   "outputs": [],
   "source": [
    "inputs = dataset_total[len(dataset_total) - len(training_test) -61:].values"
   ]
  },
  {
   "cell_type": "code",
   "execution_count": 76,
   "id": "7794978d",
   "metadata": {},
   "outputs": [],
   "source": [
    "inputs = inputs.reshape(-1,1)"
   ]
  },
  {
   "cell_type": "code",
   "execution_count": 77,
   "id": "015b6d8c",
   "metadata": {},
   "outputs": [
    {
     "data": {
      "text/plain": [
       "array([[779.31],\n",
       "       [779.  ],\n",
       "       [779.66],\n",
       "       [777.71],\n",
       "       [786.66],\n",
       "       [783.76],\n",
       "       [781.22],\n",
       "       [781.65],\n",
       "       [779.8 ],\n",
       "       [787.85],\n",
       "       [798.24],\n",
       "       [803.3 ],\n",
       "       [795.  ],\n",
       "       [804.9 ],\n",
       "       [816.68],\n",
       "       [806.34],\n",
       "       [801.  ],\n",
       "       [808.35],\n",
       "       [795.47],\n",
       "       [782.89],\n",
       "       [778.2 ],\n",
       "       [767.25],\n",
       "       [750.66],\n",
       "       [774.5 ],\n",
       "       [783.4 ],\n",
       "       [779.94],\n",
       "       [791.17],\n",
       "       [756.54],\n",
       "       [755.6 ],\n",
       "       [746.97],\n",
       "       [755.2 ],\n",
       "       [766.92],\n",
       "       [771.37],\n",
       "       [762.61],\n",
       "       [772.63],\n",
       "       [767.73],\n",
       "       [764.26],\n",
       "       [760.  ],\n",
       "       [771.53],\n",
       "       [770.07],\n",
       "       [757.44],\n",
       "       [744.59],\n",
       "       [757.71],\n",
       "       [764.73],\n",
       "       [761.  ],\n",
       "       [772.48],\n",
       "       [780.  ],\n",
       "       [785.04],\n",
       "       [793.9 ],\n",
       "       [797.4 ],\n",
       "       [797.34],\n",
       "       [800.4 ],\n",
       "       [790.22],\n",
       "       [796.76],\n",
       "       [795.84],\n",
       "       [792.36],\n",
       "       [790.9 ],\n",
       "       [790.68],\n",
       "       [793.7 ],\n",
       "       [783.33],\n",
       "       [782.75],\n",
       "       [778.81],\n",
       "       [788.36],\n",
       "       [786.08],\n",
       "       [795.26],\n",
       "       [806.4 ],\n",
       "       [807.86],\n",
       "       [805.  ],\n",
       "       [807.14],\n",
       "       [807.48],\n",
       "       [807.08],\n",
       "       [805.81],\n",
       "       [805.12],\n",
       "       [806.91],\n",
       "       [807.25],\n",
       "       [822.3 ],\n",
       "       [829.62],\n",
       "       [837.81],\n",
       "       [834.71],\n",
       "       [814.66],\n",
       "       [796.86]])"
      ]
     },
     "execution_count": 77,
     "metadata": {},
     "output_type": "execute_result"
    }
   ],
   "source": [
    "inputs"
   ]
  },
  {
   "cell_type": "code",
   "execution_count": 78,
   "id": "a2c3c057",
   "metadata": {},
   "outputs": [],
   "source": [
    "inputs = sc.transform(inputs)"
   ]
  },
  {
   "cell_type": "code",
   "execution_count": 79,
   "id": "e054ec10",
   "metadata": {},
   "outputs": [
    {
     "data": {
      "text/plain": [
       "array([[0.93048218],\n",
       "       [0.9299055 ],\n",
       "       [0.93113327],\n",
       "       [0.92750577],\n",
       "       [0.94415507],\n",
       "       [0.93876032],\n",
       "       [0.93403527],\n",
       "       [0.93483518],\n",
       "       [0.9313937 ],\n",
       "       [0.94636878],\n",
       "       [0.96569685],\n",
       "       [0.97510976],\n",
       "       [0.95966962],\n",
       "       [0.97808617],\n",
       "       [1.        ],\n",
       "       [0.98076494],\n",
       "       [0.97083116],\n",
       "       [0.98450406],\n",
       "       [0.96054394],\n",
       "       [0.9371419 ],\n",
       "       [0.92841729],\n",
       "       [0.90804747],\n",
       "       [0.8771858 ],\n",
       "       [0.92153434],\n",
       "       [0.93809063],\n",
       "       [0.93165414],\n",
       "       [0.95254483],\n",
       "       [0.88812412],\n",
       "       [0.88637547],\n",
       "       [0.87032145],\n",
       "       [0.88563137],\n",
       "       [0.90743359],\n",
       "       [0.91571173],\n",
       "       [0.89941588],\n",
       "       [0.91805566],\n",
       "       [0.9089404 ],\n",
       "       [0.9024853 ],\n",
       "       [0.89456061],\n",
       "       [0.91600938],\n",
       "       [0.9132934 ],\n",
       "       [0.88979835],\n",
       "       [0.86589404],\n",
       "       [0.89030062],\n",
       "       [0.90335962],\n",
       "       [0.89642086],\n",
       "       [0.91777662],\n",
       "       [0.93176576],\n",
       "       [0.94114145],\n",
       "       [0.95762334],\n",
       "       [0.96413424],\n",
       "       [0.96402262],\n",
       "       [0.96971501],\n",
       "       [0.95077759],\n",
       "       [0.96294367],\n",
       "       [0.96123223],\n",
       "       [0.95475854],\n",
       "       [0.95204256],\n",
       "       [0.95163331],\n",
       "       [0.95725128],\n",
       "       [0.93796041],\n",
       "       [0.93688146],\n",
       "       [0.92955205],\n",
       "       [0.94731751],\n",
       "       [0.94307612],\n",
       "       [0.96015329],\n",
       "       [0.98087655],\n",
       "       [0.98359253],\n",
       "       [0.97827219],\n",
       "       [0.98225314],\n",
       "       [0.98288563],\n",
       "       [0.98214153],\n",
       "       [0.979779  ],\n",
       "       [0.97849542],\n",
       "       [0.98182528],\n",
       "       [0.98245777],\n",
       "       [1.01045465],\n",
       "       [1.02407173],\n",
       "       [1.03930724],\n",
       "       [1.03354044],\n",
       "       [0.99624228],\n",
       "       [0.9631297 ]])"
      ]
     },
     "execution_count": 79,
     "metadata": {},
     "output_type": "execute_result"
    }
   ],
   "source": [
    "inputs"
   ]
  },
  {
   "cell_type": "code",
   "execution_count": 80,
   "id": "04d73ff3",
   "metadata": {},
   "outputs": [],
   "source": [
    "X_test = []\n",
    "for i in range(61, 81):\n",
    "    X_test.append(inputs[i-61:i, 0])\n",
    "X_test = np.array(X_test)\n",
    "X_test = np.reshape(X_test, (X_test.shape[0], X_test.shape[1],1))"
   ]
  },
  {
   "cell_type": "code",
   "execution_count": 81,
   "id": "298ebaec",
   "metadata": {},
   "outputs": [
    {
     "data": {
      "text/plain": [
       "(20, 61, 1)"
      ]
     },
     "execution_count": 81,
     "metadata": {},
     "output_type": "execute_result"
    }
   ],
   "source": [
    "X_test.shape"
   ]
  },
  {
   "cell_type": "code",
   "execution_count": 82,
   "id": "ac9ca6bc",
   "metadata": {},
   "outputs": [],
   "source": [
    "y_pred = RNN.predict(X_test)"
   ]
  },
  {
   "cell_type": "code",
   "execution_count": 83,
   "id": "e93b0049",
   "metadata": {},
   "outputs": [],
   "source": [
    "y_pred = sc.inverse_transform(y_pred)"
   ]
  },
  {
   "cell_type": "code",
   "execution_count": 84,
   "id": "dee83d4f",
   "metadata": {},
   "outputs": [
    {
     "data": {
      "text/plain": [
       "array([[773.8827 ],\n",
       "       [771.4486 ],\n",
       "       [775.31903],\n",
       "       [775.9951 ],\n",
       "       [779.99963],\n",
       "       [787.00146],\n",
       "       [789.9193 ],\n",
       "       [789.0342 ],\n",
       "       [789.8731 ],\n",
       "       [791.07965],\n",
       "       [791.7094 ],\n",
       "       [791.5144 ],\n",
       "       [791.2497 ],\n",
       "       [792.1782 ],\n",
       "       [792.8319 ],\n",
       "       [800.22455],\n",
       "       [806.4098 ],\n",
       "       [811.67914],\n",
       "       [811.7714 ],\n",
       "       [802.73846]], dtype=float32)"
      ]
     },
     "execution_count": 84,
     "metadata": {},
     "output_type": "execute_result"
    }
   ],
   "source": [
    "y_pred"
   ]
  },
  {
   "cell_type": "code",
   "execution_count": 85,
   "id": "52ce5fad",
   "metadata": {},
   "outputs": [
    {
     "data": {
      "text/plain": [
       "array([[778.81],\n",
       "       [788.36],\n",
       "       [786.08],\n",
       "       [795.26],\n",
       "       [806.4 ],\n",
       "       [807.86],\n",
       "       [805.  ],\n",
       "       [807.14],\n",
       "       [807.48],\n",
       "       [807.08],\n",
       "       [805.81],\n",
       "       [805.12],\n",
       "       [806.91],\n",
       "       [807.25],\n",
       "       [822.3 ],\n",
       "       [829.62],\n",
       "       [837.81],\n",
       "       [834.71],\n",
       "       [814.66],\n",
       "       [796.86]])"
      ]
     },
     "execution_count": 85,
     "metadata": {},
     "output_type": "execute_result"
    }
   ],
   "source": [
    "training_test"
   ]
  },
  {
   "cell_type": "code",
   "execution_count": 97,
   "id": "4e4a6e5e",
   "metadata": {},
   "outputs": [
    {
     "data": {
      "image/png": "[encoded data removed]",
      "text/plain": [
       "<Figure size 432x288 with 1 Axes>"
      ]
     },
     "metadata": {
      "needs_background": "light"
     },
     "output_type": "display_data"
    }
   ],
   "source": [
    "plt.plot(training_test, color='red', label = 'Real Strock Price')\n",
    "plt.plot(y_pred, color='blue', label = 'Predicted Strock Price')\n",
    "plt.title(\"google stock price \")\n",
    "plt.xlabel('time')\n",
    "plt.ylabel('Google stock price')\n",
    "plt.legend()\n",
    "plt.show()"
   ]
  },
  {
   "cell_type": "code",
   "execution_count": null,
   "id": "12a5bd2e",
   "metadata": {},
   "outputs": [],
   "source": []
  }
 ],
 "metadata": {
  "kernelspec": {
   "display_name": "Python 3",
   "language": "python",
   "name": "python3"
  },
  "language_info": {
   "codemirror_mode": {
    "name": "ipython",
    "version": 3
   },
   "file_extension": ".py",
   "mimetype": "text/x-python",
   "name": "python",
   "nbconvert_exporter": "python",
   "pygments_lexer": "ipython3",
   "version": "3.8.10"
  }
 },
 "nbformat": 4,
 "nbformat_minor": 5
}
